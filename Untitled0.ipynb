{
  "nbformat": 4,
  "nbformat_minor": 0,
  "metadata": {
    "colab": {
      "name": "Untitled0.ipynb",
      "provenance": [],
      "authorship_tag": "ABX9TyNnonlQrSf1f0MxpfopUpA9",
      "include_colab_link": true
    },
    "kernelspec": {
      "name": "python3",
      "display_name": "Python 3"
    }
  },
  "cells": [
    {
      "cell_type": "markdown",
      "metadata": {
        "id": "view-in-github",
        "colab_type": "text"
      },
      "source": [
        "<a href=\"https://colab.research.google.com/github/resmi11/course-project1/blob/master/Untitled0.ipynb\" target=\"_parent\"><img src=\"https://colab.research.google.com/assets/colab-badge.svg\" alt=\"Open In Colab\"/></a>"
      ]
    },
    {
      "cell_type": "code",
      "metadata": {
        "id": "UpRFEBU9NDsd"
      },
      "source": [
        "import pandas as pd\r\n",
        "import numpy as np\r\n",
        "import seaborn as sns \r\n",
        "import matplotlib.pyplot as plt \r\n",
        "%matplotlib inline \r\n",
        "sns.set(color_codes=True)\r\n",
        "data=pd.read_csv(\"/content/hepatitis_csv.csv\")\r\n",
        "data.head()\r\n",
        "print(data.isnull().sum())\r\n",
        "data = data.dropna()\r\n",
        "sns.boxplot(x=data[‘sgot’])\r\n",
        "fig, ax = plt.subplots(figsize=(10,6))\r\n",
        "ax.scatter(data[‘albumin’], data[‘bilirubin’])\r\n",
        "ax.set_xlabel(‘albumin’)\r\n",
        "ax.set_ylabel(‘bilirubin’)\r\n",
        "plt.show()\r\n",
        "plt.bar(sex,steroid)\r\n",
        "plt.title('sex vs steroid')\r\n",
        "plt.xlabel('sex')\r\n",
        "plt.ylabel('steroid')\r\n",
        "plt.show()\r\n"
      ],
      "execution_count": null,
      "outputs": []
    }
  ]
}